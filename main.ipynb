{
 "cells": [
  {
   "cell_type": "markdown",
   "id": "bc81707f",
   "metadata": {},
   "source": [
    "## ETL com Python\n",
    "#### Utilizando ChatGPT e API DIO Santanderdevweek2023"
   ]
  },
  {
   "cell_type": "markdown",
   "id": "83547848",
   "metadata": {},
   "source": [
    "Repositório da API: https://github.com/digitalinnovationone/santander-dev-week-2023-api"
   ]
  },
  {
   "cell_type": "markdown",
   "id": "3a43e885",
   "metadata": {},
   "source": [
    "Para esse exercício, foi solicitado a criação de um novo cadastro. Foi acessado a Swagger da API e efetuado novo cadastro cuja id resultante foi a 1300.\n",
    "\n",
    "https://sdw-2023-prd.up.railway.app/swagger-ui/index.html\n",
    "\n",
    "Para prosseguir com as ações, optei aproveitar a base de dados já existente, efetuando o download dos cadastros em formato json."
   ]
  },
  {
   "cell_type": "markdown",
   "id": "d18a708e",
   "metadata": {},
   "source": [
    "Para a utilização da API do ChatGPT, antes, se faz necessário a instalação da biblioteca da openai:"
   ]
  },
  {
   "cell_type": "code",
   "execution_count": 15,
   "id": "79ae3910",
   "metadata": {},
   "outputs": [],
   "source": [
    "# !pip install openai"
   ]
  },
  {
   "cell_type": "markdown",
   "id": "d1aa915e",
   "metadata": {},
   "source": [
    "### Imports"
   ]
  },
  {
   "cell_type": "code",
   "execution_count": 1,
   "id": "21c99b8b",
   "metadata": {},
   "outputs": [],
   "source": [
    "import pandas as pd\n",
    "import requests\n",
    "import json\n",
    "\n",
    "import openai"
   ]
  },
  {
   "cell_type": "code",
   "execution_count": 2,
   "id": "7d2b1a0f",
   "metadata": {},
   "outputs": [],
   "source": [
    "# endereço da API da DIO (elaborada na Dev Week 2023)\n",
    "sdw2023_api_url = 'https://sdw-2023-prd.up.railway.app'"
   ]
  },
  {
   "cell_type": "markdown",
   "id": "4e81c938",
   "metadata": {},
   "source": [
    "### Funções"
   ]
  },
  {
   "cell_type": "code",
   "execution_count": 3,
   "id": "3126594a",
   "metadata": {},
   "outputs": [],
   "source": [
    "def get_user(id):    \n",
    "    '''Recupera as informações do usuário a partir do valor de id fornecido.\n",
    "    Retorna o json caso resposta seja status code 200 de id existente, \n",
    "    caso contrário None\n",
    "    arg: id: integer aceita somente valores das id cadastradas'''\n",
    "    \n",
    "    response = requests.get(f'{sdw2023_api_url}/users/{id}')\n",
    "    return response.json() if response.status_code == 200 else None\n",
    "\n",
    "\n",
    "def generate_ai_news(user):\n",
    "    '''Envia requisição à API da OpenAI para a obtenção de mensagem personalizada\n",
    "    Atribuindo o nome do usuário.\n",
    "    arg: user: json'''\n",
    "    \n",
    "    completion = openai.ChatCompletion.create(        \n",
    "        model=\"gpt-4\",\n",
    "        messages=[\n",
    "            {\n",
    "                \"role\": \"system\", \"content\": \"Você é um especialista em marketing bancário\"\n",
    "            },\n",
    "            {\n",
    "                \"role\": \"user\", \n",
    "                \"content\": f\"Crie uma mensagem para {user['name']} sobre a \\\n",
    "                importância dos investimentos (máximo de 100 caracteres)\"\n",
    "            }\n",
    "        ]\n",
    "    )\n",
    "    \n",
    "    responseChatGPT = completion.choices[0].message.content.strip('\\\"')\n",
    "    \n",
    "    \n",
    "def generate_ai_news_teste(user):\n",
    "    '''Função auxiliar para caso não houver cadastro ativo na OpenIA ou outros semelhantes.\n",
    "    Retorna string\n",
    "    arg: user: json'''\n",
    "    \n",
    "    return f\"{user['name']}, vai ganhar na mega-sena mas, primeiro, você deve apostar.\"\n",
    "\n",
    "\n",
    "def update_user(user):\n",
    "    '''Função efetua requisição PUT para a edição de valores na API.\n",
    "    Retorna boolean: True/False. Verdadeiro se resposta à requisição for status code 200.\n",
    "    arg: user: json'''\n",
    "    \n",
    "    response = requests.put(f\"{sdw2023_api_url}/users/{user['id']}\", json=user)\n",
    "    return True if response.status_code == 200 else False"
   ]
  },
  {
   "cell_type": "markdown",
   "id": "39194bb7",
   "metadata": {},
   "source": [
    "### Extract\n",
    "Extrair a lista de IDs de usuários a partir do arquivo*. Após, é efetuada uma requisição GET para obtenção dos dados de cada usuário."
   ]
  },
  {
   "cell_type": "markdown",
   "id": "d6a2158f",
   "metadata": {},
   "source": [
    "obs: optei por aproveitar as IDs cadastradas anteriormente (além de criar um novo usuário). Portanto, em determinado momento, obtive a base de dados efetuando uma requisição GET /users e salvei no arquivo SDW2023.json."
   ]
  },
  {
   "cell_type": "code",
   "execution_count": 4,
   "id": "aeea7ca0",
   "metadata": {},
   "outputs": [],
   "source": [
    "data = pd.read_json('SDW2023.json')"
   ]
  },
  {
   "cell_type": "markdown",
   "id": "c16c9941",
   "metadata": {},
   "source": [
    "#### Conhecendo os dados"
   ]
  },
  {
   "cell_type": "code",
   "execution_count": 5,
   "id": "2467b13f",
   "metadata": {},
   "outputs": [
    {
     "name": "stdout",
     "output_type": "stream",
     "text": [
      "<class 'pandas.core.frame.DataFrame'>\n",
      "RangeIndex: 1110 entries, 0 to 1109\n",
      "Data columns (total 6 columns):\n",
      " #   Column    Non-Null Count  Dtype \n",
      "---  ------    --------------  ----- \n",
      " 0   id        1110 non-null   int64 \n",
      " 1   name      1110 non-null   object\n",
      " 2   account   1110 non-null   object\n",
      " 3   card      1110 non-null   object\n",
      " 4   features  1110 non-null   object\n",
      " 5   news      1110 non-null   object\n",
      "dtypes: int64(1), object(5)\n",
      "memory usage: 52.2+ KB\n"
     ]
    }
   ],
   "source": [
    "data.info()"
   ]
  },
  {
   "cell_type": "markdown",
   "id": "b83df63f",
   "metadata": {},
   "source": [
    "Há um total de 1110 cadastros e não há valores nulos. Entretanto, em etapas seguintes, utilizarei uma pequena amostra para fins práticos."
   ]
  },
  {
   "cell_type": "code",
   "execution_count": 6,
   "id": "f8cfb7ef",
   "metadata": {},
   "outputs": [],
   "source": [
    "data = data.sort_values('id')"
   ]
  },
  {
   "cell_type": "code",
   "execution_count": 7,
   "id": "bfb20cb7",
   "metadata": {},
   "outputs": [
    {
     "data": {
      "text/html": [
       "<div>\n",
       "<style scoped>\n",
       "    .dataframe tbody tr th:only-of-type {\n",
       "        vertical-align: middle;\n",
       "    }\n",
       "\n",
       "    .dataframe tbody tr th {\n",
       "        vertical-align: top;\n",
       "    }\n",
       "\n",
       "    .dataframe thead th {\n",
       "        text-align: right;\n",
       "    }\n",
       "</style>\n",
       "<table border=\"1\" class=\"dataframe\">\n",
       "  <thead>\n",
       "    <tr style=\"text-align: right;\">\n",
       "      <th></th>\n",
       "      <th>id</th>\n",
       "      <th>name</th>\n",
       "    </tr>\n",
       "  </thead>\n",
       "  <tbody>\n",
       "    <tr>\n",
       "      <th>7</th>\n",
       "      <td>1</td>\n",
       "      <td>Devweekerson</td>\n",
       "    </tr>\n",
       "    <tr>\n",
       "      <th>11</th>\n",
       "      <td>13</td>\n",
       "      <td>anguile</td>\n",
       "    </tr>\n",
       "    <tr>\n",
       "      <th>12</th>\n",
       "      <td>14</td>\n",
       "      <td>Maria</td>\n",
       "    </tr>\n",
       "  </tbody>\n",
       "</table>\n",
       "</div>"
      ],
      "text/plain": [
       "    id          name\n",
       "7    1  Devweekerson\n",
       "11  13       anguile\n",
       "12  14         Maria"
      ]
     },
     "execution_count": 7,
     "metadata": {},
     "output_type": "execute_result"
    }
   ],
   "source": [
    "data[['id', 'name']].head(3)"
   ]
  },
  {
   "cell_type": "code",
   "execution_count": 8,
   "id": "e6c8d820",
   "metadata": {},
   "outputs": [
    {
     "data": {
      "text/html": [
       "<div>\n",
       "<style scoped>\n",
       "    .dataframe tbody tr th:only-of-type {\n",
       "        vertical-align: middle;\n",
       "    }\n",
       "\n",
       "    .dataframe tbody tr th {\n",
       "        vertical-align: top;\n",
       "    }\n",
       "\n",
       "    .dataframe thead th {\n",
       "        text-align: right;\n",
       "    }\n",
       "</style>\n",
       "<table border=\"1\" class=\"dataframe\">\n",
       "  <thead>\n",
       "    <tr style=\"text-align: right;\">\n",
       "      <th></th>\n",
       "      <th>id</th>\n",
       "      <th>name</th>\n",
       "    </tr>\n",
       "  </thead>\n",
       "  <tbody>\n",
       "    <tr>\n",
       "      <th>1107</th>\n",
       "      <td>1298</td>\n",
       "      <td>Ricardo</td>\n",
       "    </tr>\n",
       "    <tr>\n",
       "      <th>1108</th>\n",
       "      <td>1299</td>\n",
       "      <td>Santos</td>\n",
       "    </tr>\n",
       "    <tr>\n",
       "      <th>1109</th>\n",
       "      <td>1300</td>\n",
       "      <td>Sir Pyterson II</td>\n",
       "    </tr>\n",
       "  </tbody>\n",
       "</table>\n",
       "</div>"
      ],
      "text/plain": [
       "        id             name\n",
       "1107  1298          Ricardo\n",
       "1108  1299           Santos\n",
       "1109  1300  Sir Pyterson II"
      ]
     },
     "execution_count": 8,
     "metadata": {},
     "output_type": "execute_result"
    }
   ],
   "source": [
    "data[['id', 'name']].tail(3)"
   ]
  },
  {
   "cell_type": "code",
   "execution_count": 9,
   "id": "cc9b46f1",
   "metadata": {},
   "outputs": [],
   "source": [
    "user_ids = data['id'].tolist()\n",
    "# print(user_ids)"
   ]
  },
  {
   "cell_type": "code",
   "execution_count": 10,
   "id": "b9e5139c",
   "metadata": {},
   "outputs": [
    {
     "data": {
      "text/html": [
       "<div>\n",
       "<style scoped>\n",
       "    .dataframe tbody tr th:only-of-type {\n",
       "        vertical-align: middle;\n",
       "    }\n",
       "\n",
       "    .dataframe tbody tr th {\n",
       "        vertical-align: top;\n",
       "    }\n",
       "\n",
       "    .dataframe thead th {\n",
       "        text-align: right;\n",
       "    }\n",
       "</style>\n",
       "<table border=\"1\" class=\"dataframe\">\n",
       "  <thead>\n",
       "    <tr style=\"text-align: right;\">\n",
       "      <th></th>\n",
       "      <th>id</th>\n",
       "      <th>name</th>\n",
       "      <th>account</th>\n",
       "      <th>card</th>\n",
       "      <th>features</th>\n",
       "      <th>news</th>\n",
       "    </tr>\n",
       "  </thead>\n",
       "  <tbody>\n",
       "    <tr>\n",
       "      <th>7</th>\n",
       "      <td>1</td>\n",
       "      <td>Devweekerson</td>\n",
       "      <td>{'id': 1, 'number': '01.097954-4', 'agency': '...</td>\n",
       "      <td>{'id': 1, 'number': 'xxxx xxxx xxxx 1111', 'li...</td>\n",
       "      <td>[{'id': 2, 'icon': 'https://digitalinnovationo...</td>\n",
       "      <td>[{'id': 1, 'icon': 'https://digitalinnovationo...</td>\n",
       "    </tr>\n",
       "  </tbody>\n",
       "</table>\n",
       "</div>"
      ],
      "text/plain": [
       "   id          name                                            account  \\\n",
       "7   1  Devweekerson  {'id': 1, 'number': '01.097954-4', 'agency': '...   \n",
       "\n",
       "                                                card  \\\n",
       "7  {'id': 1, 'number': 'xxxx xxxx xxxx 1111', 'li...   \n",
       "\n",
       "                                            features  \\\n",
       "7  [{'id': 2, 'icon': 'https://digitalinnovationo...   \n",
       "\n",
       "                                                news  \n",
       "7  [{'id': 1, 'icon': 'https://digitalinnovationo...  "
      ]
     },
     "execution_count": 10,
     "metadata": {},
     "output_type": "execute_result"
    }
   ],
   "source": [
    "data.loc[data['id'] == 1]"
   ]
  },
  {
   "cell_type": "markdown",
   "id": "56a8856b",
   "metadata": {},
   "source": [
    "Obs:<br>\n",
    "Como não desejo recuperar os dados de todos os usuários cadastrados (o que levaria tempo), utilizarei apenas os cinco últimos cadastros. Atualmente (02/08/2023) refere-se a um total de cinco cadastros incluindo o criado por mim (id=1300).\n",
    "Também os escolhi pois, inicialmente, estes não estavam preenchidos o campo \"news\" (posteriormente ocorreram acréscimos/alterações, possivelmente de seu criador original)."
   ]
  },
  {
   "cell_type": "code",
   "execution_count": 11,
   "id": "7492f08b",
   "metadata": {},
   "outputs": [],
   "source": [
    "list_user = [user for id in user_ids[-5:] if (user := get_user(id)) is not None]"
   ]
  },
  {
   "cell_type": "code",
   "execution_count": 12,
   "id": "75fc9657",
   "metadata": {},
   "outputs": [
    {
     "name": "stdout",
     "output_type": "stream",
     "text": [
      "[\n",
      "  {\n",
      "    \"id\": 1288,\n",
      "    \"name\": \"Sherlock\",\n",
      "    \"account\": {\n",
      "      \"id\": 9,\n",
      "      \"number\": \"00345-1\",\n",
      "      \"agency\": \"0001\",\n",
      "      \"balance\": 0.0,\n",
      "      \"limit\": 500.0\n",
      "    },\n",
      "    \"card\": {\n",
      "      \"id\": 6,\n",
      "      \"number\": \"0000 1234 9854 1234\",\n",
      "      \"limit\": 1000.0\n",
      "    },\n",
      "    \"features\": [\n",
      "      {\n",
      "        \"id\": 437,\n",
      "        \"icon\": \"string\",\n",
      "        \"description\": \"string\"\n",
      "      }\n",
      "    ],\n",
      "    \"news\": [\n",
      "      {\n",
      "        \"id\": 2674,\n",
      "        \"icon\": \"https://digitalinnovationone.github.io/santander-dev-week-2023-api/icons/credit.svg\",\n",
      "        \"description\": \"Sherlock, vai ganhar na mega-sena mas, primeiro, voc\\u00ea deve apostar.\"\n",
      "      }\n",
      "    ]\n",
      "  },\n",
      "  {\n",
      "    \"id\": 1297,\n",
      "    \"name\": \"Paulo\",\n",
      "    \"account\": {\n",
      "      \"id\": 1331,\n",
      "      \"number\": \"5565\",\n",
      "      \"agency\": \"Santander\",\n",
      "      \"balance\": 0.0,\n",
      "      \"limit\": 1000.0\n",
      "    },\n",
      "    \"card\": {\n",
      "      \"id\": 1234,\n",
      "      \"number\": \"xxxx xxxxx 7777\",\n",
      "      \"limit\": 500.0\n",
      "    },\n",
      "    \"features\": [\n",
      "      {\n",
      "        \"id\": 438,\n",
      "        \"icon\": \"string\",\n",
      "        \"description\": \"string\"\n",
      "      }\n",
      "    ],\n",
      "    \"news\": [\n",
      "      {\n",
      "        \"id\": 2679,\n",
      "        \"icon\": \"https://digitalinnovationone.github.io/santander-dev-week-2023-api/icons/credit.svg\",\n",
      "        \"description\": \"Paulo, vai ganhar na mega-sena mas, primeiro, voc\\u00ea deve apostar.\"\n",
      "      },\n",
      "      {\n",
      "        \"id\": 2741,\n",
      "        \"icon\": \"https://digitalinnovationone.github.io/santander-dev-week-2023-api/icons/credit.svg\",\n",
      "        \"description\": \"Teste\"\n",
      "      }\n",
      "    ]\n",
      "  },\n",
      "  {\n",
      "    \"id\": 1298,\n",
      "    \"name\": \"Ricardo\",\n",
      "    \"account\": {\n",
      "      \"id\": 1332,\n",
      "      \"number\": \"5556\",\n",
      "      \"agency\": \"Santander\",\n",
      "      \"balance\": 0.0,\n",
      "      \"limit\": 1000.0\n",
      "    },\n",
      "    \"card\": {\n",
      "      \"id\": 1235,\n",
      "      \"number\": \"xxxx xxxxx 8888\",\n",
      "      \"limit\": 500.0\n",
      "    },\n",
      "    \"features\": [\n",
      "      {\n",
      "        \"id\": 439,\n",
      "        \"icon\": \"string\",\n",
      "        \"description\": \"string\"\n",
      "      }\n",
      "    ],\n",
      "    \"news\": [\n",
      "      {\n",
      "        \"id\": 2680,\n",
      "        \"icon\": \"https://digitalinnovationone.github.io/santander-dev-week-2023-api/icons/credit.svg\",\n",
      "        \"description\": \"Ricardo, vai ganhar na mega-sena mas, primeiro, voc\\u00ea deve apostar.\"\n",
      "      },\n",
      "      {\n",
      "        \"id\": 2742,\n",
      "        \"icon\": \"https://digitalinnovationone.github.io/santander-dev-week-2023-api/icons/credit.svg\",\n",
      "        \"description\": \"Teste\"\n",
      "      }\n",
      "    ]\n",
      "  },\n",
      "  {\n",
      "    \"id\": 1299,\n",
      "    \"name\": \"Santos\",\n",
      "    \"account\": {\n",
      "      \"id\": 1333,\n",
      "      \"number\": \"5555\",\n",
      "      \"agency\": \"Santander\",\n",
      "      \"balance\": 0.0,\n",
      "      \"limit\": 1000.0\n",
      "    },\n",
      "    \"card\": {\n",
      "      \"id\": 1236,\n",
      "      \"number\": \"xxxx xxxxx 9999\",\n",
      "      \"limit\": 500.0\n",
      "    },\n",
      "    \"features\": [\n",
      "      {\n",
      "        \"id\": 440,\n",
      "        \"icon\": \"string\",\n",
      "        \"description\": \"string\"\n",
      "      }\n",
      "    ],\n",
      "    \"news\": [\n",
      "      {\n",
      "        \"id\": 2681,\n",
      "        \"icon\": \"https://digitalinnovationone.github.io/santander-dev-week-2023-api/icons/credit.svg\",\n",
      "        \"description\": \"Santos, vai ganhar na mega-sena mas, primeiro, voc\\u00ea deve apostar.\"\n",
      "      },\n",
      "      {\n",
      "        \"id\": 2743,\n",
      "        \"icon\": \"https://digitalinnovationone.github.io/santander-dev-week-2023-api/icons/credit.svg\",\n",
      "        \"description\": \"Teste\"\n",
      "      }\n",
      "    ]\n",
      "  },\n",
      "  {\n",
      "    \"id\": 1300,\n",
      "    \"name\": \"Sir Pyterson II\",\n",
      "    \"account\": {\n",
      "      \"id\": 1334,\n",
      "      \"number\": \"90001-3\",\n",
      "      \"agency\": \"0001\",\n",
      "      \"balance\": 1000000.0,\n",
      "      \"limit\": 100000000.0\n",
      "    },\n",
      "    \"card\": {\n",
      "      \"id\": 1237,\n",
      "      \"number\": \"1234 4321 1357 2468\",\n",
      "      \"limit\": 0.0\n",
      "    },\n",
      "    \"features\": [\n",
      "      {\n",
      "        \"id\": 441,\n",
      "        \"icon\": \"string\",\n",
      "        \"description\": \"string\"\n",
      "      }\n",
      "    ],\n",
      "    \"news\": [\n",
      "      {\n",
      "        \"id\": 2694,\n",
      "        \"icon\": \"https://digitalinnovationone.github.io/santander-dev-week-2023-api/icons/credit.svg\",\n",
      "        \"description\": \"Sir Pyterson II, vai ganhar na mega-sena mas, primeiro, voc\\u00ea deve apostar.\"\n",
      "      }\n",
      "    ]\n",
      "  }\n",
      "]\n"
     ]
    }
   ],
   "source": [
    "print(json.dumps(list_user, indent=2))"
   ]
  },
  {
   "cell_type": "markdown",
   "id": "911f6204",
   "metadata": {},
   "source": [
    "### Transform \n",
    "Gerar uma mensagem de marketing personalizada para cada usuário."
   ]
  },
  {
   "cell_type": "markdown",
   "id": "e6e13ebe",
   "metadata": {},
   "source": [
    "Documentação oficial da API OpenAI: https://platform.openai.com/docs/api-reference/introduction\n",
    "Informações sobre o período gratuito: https://help.openai.com/en/articles/4936830\n",
    "\n",
    "Para gerar uma API Key:\n",
    "1. Crie uma conta na OpenAI\n",
    "2. Acesse a seção \"API Keys\"\n",
    "3. Clique em \"Create API Key\"\n",
    "\n",
    "Link direto: https://platform.openai.com/account/api-keys\n",
    "Substitua o texto TODO por sua API Key da OpenAI, ela será salva como uma variável de ambiente."
   ]
  },
  {
   "cell_type": "code",
   "execution_count": 13,
   "id": "af08d678",
   "metadata": {},
   "outputs": [],
   "source": [
    "openai.api_key = '' # preencher com a própria chave"
   ]
  },
  {
   "cell_type": "markdown",
   "id": "a207a59e",
   "metadata": {},
   "source": [
    "Para não gerar respostas JSON grandes em demasia, ao invés do append para a cada vez incluir nova mensagem, optei para reaproveitar a id da mensagem já existente (geralmente a primeira)."
   ]
  },
  {
   "cell_type": "code",
   "execution_count": 14,
   "id": "ad4e7d95",
   "metadata": {},
   "outputs": [
    {
     "name": "stdout",
     "output_type": "stream",
     "text": [
      "Sherlock, vai ganhar na mega-sena mas, primeiro, você deve apostar.\n",
      "Paulo, vai ganhar na mega-sena mas, primeiro, você deve apostar.\n",
      "Ricardo, vai ganhar na mega-sena mas, primeiro, você deve apostar.\n",
      "Santos, vai ganhar na mega-sena mas, primeiro, você deve apostar.\n",
      "Sir Pyterson II, vai ganhar na mega-sena mas, primeiro, você deve apostar.\n"
     ]
    }
   ],
   "source": [
    "for user in list_user:\n",
    "    news = generate_ai_news_teste(user)\n",
    "    print(news)\n",
    "\n",
    "    user['news'][0] = {\n",
    "            \"id\": user['news'][0]['id'],\n",
    "            \"icon\": \"https://digitalinnovationone.github.io/santander-dev-week-2023-api/icons/credit.svg\",\n",
    "            \"description\": news\n",
    "        }    "
   ]
  },
  {
   "cell_type": "markdown",
   "id": "6d8c27d5",
   "metadata": {},
   "source": [
    "### Load\n",
    "Atualiza o valor de \"news\" de cada usuário na API com a nova mensagem gerada."
   ]
  },
  {
   "cell_type": "code",
   "execution_count": 15,
   "id": "39d04bd6",
   "metadata": {},
   "outputs": [
    {
     "name": "stdout",
     "output_type": "stream",
     "text": [
      "User Sherlock updated? True!\n",
      "User Paulo updated? True!\n",
      "User Ricardo updated? True!\n",
      "User Santos updated? True!\n",
      "User Sir Pyterson II updated? True!\n"
     ]
    }
   ],
   "source": [
    "for user in list_user:\n",
    "    success = update_user(user)\n",
    "    print(f\"User {user['name']} updated? {success}!\")"
   ]
  },
  {
   "cell_type": "markdown",
   "id": "77b10e1b",
   "metadata": {},
   "source": [
    "### Considerações"
   ]
  },
  {
   "cell_type": "markdown",
   "id": "482fde33",
   "metadata": {},
   "source": [
    "Este pequeno projeto há muitas possibilidades de melhorias, sejam em desempenho, abraangência de escopo ou simplesmente estéticos. Todavia, me atentarei ao essencial.\n",
    "\n",
    "Uma sugestão de melhoria, não seria para este projeto em sim mas a extensão da API com a inclusão do campo \"estado\" para cada usuário cadastrado. \n",
    "O que aumentaria o valor da API utilizada para fins didátivos. Permitindo aos alunos/interessados, desenvolverem análises abraangentes e justificaria o emprego de visualização de dados. "
   ]
  }
 ],
 "metadata": {
  "kernelspec": {
   "display_name": "Python 3 (ipykernel)",
   "language": "python",
   "name": "python3"
  },
  "language_info": {
   "codemirror_mode": {
    "name": "ipython",
    "version": 3
   },
   "file_extension": ".py",
   "mimetype": "text/x-python",
   "name": "python",
   "nbconvert_exporter": "python",
   "pygments_lexer": "ipython3",
   "version": "3.10.9"
  }
 },
 "nbformat": 4,
 "nbformat_minor": 5
}
