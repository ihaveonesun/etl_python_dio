{
 "cells": [
  {
   "cell_type": "markdown",
   "id": "83547848",
   "metadata": {},
   "source": [
    "Repositório da API: https://github.com/digitalinnovationone/santander-dev-week-2023-api"
   ]
  },
  {
   "cell_type": "markdown",
   "id": "3a43e885",
   "metadata": {},
   "source": [
    "Para esse exercício, foi solicitado a criação de um novo cadastro. Acessei a swagger da API e efetuei o novo cadastro cuja id resultante foi a 1300.\n",
    "\n",
    "https://sdw-2023-prd.up.railway.app/swagger-ui/index.html\n",
    "\n",
    "Para prosseguir com as ações, optei aproveitar a base de dados já existente, efetuando o download dos cadastros em formato json. Ao invés de criar um csv com poucos cadastros."
   ]
  },
  {
   "cell_type": "markdown",
   "id": "d1aa915e",
   "metadata": {},
   "source": [
    "### Imports"
   ]
  },
  {
   "cell_type": "code",
   "execution_count": 17,
   "id": "21c99b8b",
   "metadata": {},
   "outputs": [],
   "source": [
    "import pandas as pd\n",
    "import requests\n",
    "import json\n",
    "\n",
    "import openai"
   ]
  },
  {
   "cell_type": "code",
   "execution_count": 2,
   "id": "7d2b1a0f",
   "metadata": {},
   "outputs": [],
   "source": [
    "# endereço da API da DIO (elaborada na Dev Week 2023)\n",
    "sdw2023_api_url = 'https://sdw-2023-prd.up.railway.app'"
   ]
  },
  {
   "cell_type": "markdown",
   "id": "39194bb7",
   "metadata": {},
   "source": [
    "### Extract"
   ]
  },
  {
   "cell_type": "code",
   "execution_count": 3,
   "id": "aeea7ca0",
   "metadata": {},
   "outputs": [],
   "source": [
    "data = pd.read_json('SDW2023.json')"
   ]
  },
  {
   "cell_type": "code",
   "execution_count": 4,
   "id": "2467b13f",
   "metadata": {},
   "outputs": [
    {
     "name": "stdout",
     "output_type": "stream",
     "text": [
      "<class 'pandas.core.frame.DataFrame'>\n",
      "RangeIndex: 1110 entries, 0 to 1109\n",
      "Data columns (total 6 columns):\n",
      " #   Column    Non-Null Count  Dtype \n",
      "---  ------    --------------  ----- \n",
      " 0   id        1110 non-null   int64 \n",
      " 1   name      1110 non-null   object\n",
      " 2   account   1110 non-null   object\n",
      " 3   card      1110 non-null   object\n",
      " 4   features  1110 non-null   object\n",
      " 5   news      1110 non-null   object\n",
      "dtypes: int64(1), object(5)\n",
      "memory usage: 52.2+ KB\n"
     ]
    }
   ],
   "source": [
    "data.info()"
   ]
  },
  {
   "cell_type": "code",
   "execution_count": 5,
   "id": "f8cfb7ef",
   "metadata": {},
   "outputs": [],
   "source": [
    "data = data.sort_values('id')"
   ]
  },
  {
   "cell_type": "code",
   "execution_count": 6,
   "id": "bfb20cb7",
   "metadata": {},
   "outputs": [
    {
     "data": {
      "text/html": [
       "<div>\n",
       "<style scoped>\n",
       "    .dataframe tbody tr th:only-of-type {\n",
       "        vertical-align: middle;\n",
       "    }\n",
       "\n",
       "    .dataframe tbody tr th {\n",
       "        vertical-align: top;\n",
       "    }\n",
       "\n",
       "    .dataframe thead th {\n",
       "        text-align: right;\n",
       "    }\n",
       "</style>\n",
       "<table border=\"1\" class=\"dataframe\">\n",
       "  <thead>\n",
       "    <tr style=\"text-align: right;\">\n",
       "      <th></th>\n",
       "      <th>id</th>\n",
       "      <th>name</th>\n",
       "    </tr>\n",
       "  </thead>\n",
       "  <tbody>\n",
       "    <tr>\n",
       "      <th>7</th>\n",
       "      <td>1</td>\n",
       "      <td>Devweekerson</td>\n",
       "    </tr>\n",
       "    <tr>\n",
       "      <th>11</th>\n",
       "      <td>13</td>\n",
       "      <td>anguile</td>\n",
       "    </tr>\n",
       "    <tr>\n",
       "      <th>12</th>\n",
       "      <td>14</td>\n",
       "      <td>Maria</td>\n",
       "    </tr>\n",
       "  </tbody>\n",
       "</table>\n",
       "</div>"
      ],
      "text/plain": [
       "    id          name\n",
       "7    1  Devweekerson\n",
       "11  13       anguile\n",
       "12  14         Maria"
      ]
     },
     "execution_count": 6,
     "metadata": {},
     "output_type": "execute_result"
    }
   ],
   "source": [
    "data[['id', 'name']].head(3)"
   ]
  },
  {
   "cell_type": "code",
   "execution_count": 7,
   "id": "e6c8d820",
   "metadata": {},
   "outputs": [
    {
     "data": {
      "text/html": [
       "<div>\n",
       "<style scoped>\n",
       "    .dataframe tbody tr th:only-of-type {\n",
       "        vertical-align: middle;\n",
       "    }\n",
       "\n",
       "    .dataframe tbody tr th {\n",
       "        vertical-align: top;\n",
       "    }\n",
       "\n",
       "    .dataframe thead th {\n",
       "        text-align: right;\n",
       "    }\n",
       "</style>\n",
       "<table border=\"1\" class=\"dataframe\">\n",
       "  <thead>\n",
       "    <tr style=\"text-align: right;\">\n",
       "      <th></th>\n",
       "      <th>id</th>\n",
       "      <th>name</th>\n",
       "    </tr>\n",
       "  </thead>\n",
       "  <tbody>\n",
       "    <tr>\n",
       "      <th>1107</th>\n",
       "      <td>1298</td>\n",
       "      <td>Ricardo</td>\n",
       "    </tr>\n",
       "    <tr>\n",
       "      <th>1108</th>\n",
       "      <td>1299</td>\n",
       "      <td>Santos</td>\n",
       "    </tr>\n",
       "    <tr>\n",
       "      <th>1109</th>\n",
       "      <td>1300</td>\n",
       "      <td>Sir Pyterson II</td>\n",
       "    </tr>\n",
       "  </tbody>\n",
       "</table>\n",
       "</div>"
      ],
      "text/plain": [
       "        id             name\n",
       "1107  1298          Ricardo\n",
       "1108  1299           Santos\n",
       "1109  1300  Sir Pyterson II"
      ]
     },
     "execution_count": 7,
     "metadata": {},
     "output_type": "execute_result"
    }
   ],
   "source": [
    "data[['id', 'name']].tail(3)"
   ]
  },
  {
   "cell_type": "code",
   "execution_count": 8,
   "id": "cc9b46f1",
   "metadata": {},
   "outputs": [
    {
     "name": "stdout",
     "output_type": "stream",
     "text": [
      "[1, 13, 14, 15, 17, 18, 19, 20, 21, 23, 24, 27, 28, 29, 30, 31, 32, 33, 34, 35, 36, 37, 38, 39, 40, 41, 42, 43, 44, 45, 46, 47, 48, 49, 50, 51, 52, 53, 54, 55, 56, 57, 58, 59, 60, 61, 62, 63, 64, 65, 67, 68, 69, 70, 71, 72, 73, 74, 75, 76, 77, 78, 79, 81, 82, 83, 84, 85, 86, 87, 88, 89, 90, 91, 92, 93, 94, 95, 96, 97, 98, 99, 100, 101, 102, 103, 104, 105, 106, 107, 108, 109, 110, 111, 114, 115, 118, 119, 120, 121, 122, 123, 124, 125, 127, 128, 129, 130, 132, 136, 137, 138, 139, 140, 141, 142, 143, 144, 145, 146, 147, 148, 149, 150, 151, 152, 154, 155, 156, 157, 158, 159, 160, 161, 162, 163, 164, 165, 166, 167, 168, 169, 170, 171, 172, 173, 174, 175, 176, 177, 178, 179, 180, 181, 182, 183, 184, 185, 186, 187, 188, 189, 190, 191, 192, 193, 194, 195, 196, 197, 199, 200, 202, 203, 204, 205, 206, 207, 208, 209, 210, 211, 212, 213, 214, 215, 216, 217, 218, 219, 220, 221, 222, 223, 224, 225, 226, 227, 228, 229, 230, 231, 232, 233, 234, 235, 236, 237, 238, 239, 240, 241, 242, 243, 244, 245, 246, 247, 248, 249, 250, 251, 252, 253, 254, 255, 256, 257, 258, 259, 260, 261, 262, 263, 264, 265, 266, 267, 268, 269, 270, 271, 272, 273, 274, 278, 279, 280, 281, 282, 283, 284, 285, 286, 287, 288, 289, 290, 291, 292, 294, 295, 296, 297, 298, 299, 300, 301, 302, 303, 304, 305, 306, 307, 308, 309, 310, 311, 312, 313, 314, 315, 316, 317, 318, 319, 320, 321, 322, 323, 324, 325, 326, 327, 328, 329, 330, 331, 332, 333, 334, 335, 336, 345, 346, 347, 348, 349, 350, 351, 352, 353, 354, 355, 356, 357, 358, 359, 360, 361, 362, 363, 364, 365, 366, 367, 368, 369, 370, 371, 372, 373, 374, 375, 376, 377, 378, 379, 380, 381, 382, 383, 384, 385, 386, 387, 388, 389, 390, 391, 395, 396, 397, 398, 399, 400, 401, 402, 403, 404, 405, 406, 407, 408, 409, 410, 411, 414, 415, 416, 418, 419, 420, 421, 422, 423, 424, 425, 426, 427, 428, 429, 430, 432, 433, 434, 435, 436, 437, 438, 439, 440, 441, 442, 445, 446, 447, 450, 451, 452, 453, 454, 456, 457, 458, 460, 461, 462, 463, 464, 465, 466, 467, 468, 472, 473, 474, 475, 476, 477, 478, 479, 480, 481, 482, 483, 484, 485, 486, 487, 488, 489, 490, 491, 492, 493, 494, 495, 496, 497, 498, 499, 500, 508, 509, 510, 516, 518, 519, 521, 524, 525, 533, 534, 535, 536, 537, 538, 539, 540, 541, 542, 544, 545, 546, 547, 548, 549, 550, 551, 552, 553, 554, 555, 556, 557, 558, 559, 560, 561, 562, 563, 564, 565, 566, 567, 568, 569, 570, 571, 572, 573, 574, 575, 576, 577, 578, 579, 580, 581, 582, 583, 584, 585, 586, 587, 588, 589, 590, 591, 592, 593, 594, 595, 596, 597, 598, 599, 600, 601, 602, 603, 604, 605, 606, 607, 608, 609, 610, 611, 612, 613, 614, 615, 616, 617, 618, 619, 620, 621, 622, 623, 624, 625, 626, 627, 628, 629, 631, 632, 633, 634, 635, 636, 637, 638, 639, 641, 642, 643, 644, 645, 646, 647, 648, 649, 650, 651, 652, 653, 654, 655, 656, 657, 658, 659, 660, 661, 662, 663, 664, 665, 666, 667, 668, 669, 670, 671, 672, 673, 674, 675, 676, 677, 678, 679, 680, 681, 682, 683, 684, 685, 686, 687, 688, 689, 690, 691, 692, 693, 694, 695, 698, 699, 701, 704, 705, 706, 707, 708, 709, 710, 711, 714, 717, 718, 719, 720, 721, 722, 723, 724, 725, 726, 727, 729, 730, 731, 732, 733, 734, 735, 736, 737, 738, 739, 740, 741, 742, 743, 744, 745, 746, 747, 748, 749, 750, 751, 752, 753, 754, 755, 756, 757, 758, 759, 760, 761, 762, 763, 764, 765, 766, 767, 768, 769, 770, 771, 772, 773, 779, 780, 781, 782, 783, 784, 785, 786, 787, 788, 789, 790, 791, 792, 793, 794, 795, 797, 798, 804, 805, 806, 807, 808, 809, 810, 811, 816, 817, 818, 819, 820, 821, 825, 826, 827, 828, 831, 832, 833, 834, 835, 836, 837, 838, 839, 840, 850, 851, 852, 853, 855, 856, 857, 858, 859, 860, 861, 862, 863, 864, 865, 866, 867, 868, 869, 870, 871, 872, 873, 874, 875, 876, 877, 878, 879, 880, 881, 882, 883, 884, 885, 886, 887, 888, 889, 890, 891, 892, 893, 894, 895, 896, 897, 898, 899, 900, 901, 902, 903, 904, 905, 906, 907, 908, 909, 910, 911, 912, 913, 914, 915, 916, 917, 918, 919, 920, 921, 922, 923, 924, 925, 926, 927, 928, 929, 930, 931, 932, 933, 934, 935, 936, 937, 938, 939, 940, 941, 942, 943, 944, 945, 946, 947, 948, 949, 950, 951, 952, 953, 954, 955, 956, 957, 958, 959, 960, 961, 962, 965, 966, 968, 969, 970, 971, 972, 973, 974, 975, 976, 977, 978, 979, 980, 981, 982, 983, 984, 985, 986, 987, 988, 989, 990, 991, 992, 993, 994, 995, 996, 997, 998, 999, 1000, 1001, 1002, 1003, 1004, 1005, 1006, 1007, 1008, 1009, 1010, 1011, 1012, 1013, 1014, 1015, 1016, 1017, 1018, 1019, 1020, 1021, 1022, 1023, 1024, 1025, 1032, 1033, 1034, 1035, 1039, 1040, 1041, 1042, 1046, 1047, 1048, 1049, 1050, 1051, 1052, 1053, 1054, 1056, 1057, 1058, 1059, 1060, 1061, 1062, 1063, 1064, 1065, 1066, 1067, 1068, 1069, 1070, 1071, 1072, 1073, 1074, 1075, 1077, 1078, 1079, 1080, 1081, 1082, 1083, 1084, 1085, 1086, 1087, 1088, 1089, 1090, 1091, 1092, 1093, 1094, 1095, 1096, 1097, 1098, 1099, 1100, 1101, 1102, 1103, 1104, 1105, 1106, 1107, 1108, 1109, 1111, 1112, 1113, 1114, 1115, 1116, 1117, 1118, 1119, 1120, 1121, 1122, 1123, 1124, 1125, 1126, 1127, 1128, 1129, 1130, 1131, 1132, 1133, 1134, 1135, 1136, 1137, 1138, 1139, 1140, 1141, 1142, 1143, 1144, 1145, 1146, 1147, 1148, 1149, 1150, 1151, 1152, 1153, 1154, 1155, 1156, 1157, 1158, 1159, 1160, 1161, 1162, 1163, 1164, 1165, 1166, 1167, 1168, 1169, 1170, 1171, 1172, 1173, 1174, 1175, 1176, 1177, 1179, 1180, 1181, 1182, 1186, 1187, 1188, 1189, 1190, 1191, 1197, 1198, 1199, 1200, 1201, 1205, 1210, 1211, 1212, 1213, 1214, 1215, 1216, 1217, 1218, 1219, 1220, 1221, 1222, 1223, 1224, 1225, 1226, 1227, 1228, 1229, 1230, 1231, 1232, 1233, 1234, 1235, 1238, 1239, 1240, 1241, 1242, 1243, 1244, 1245, 1246, 1247, 1248, 1249, 1250, 1251, 1252, 1253, 1254, 1255, 1256, 1257, 1258, 1259, 1260, 1261, 1262, 1263, 1264, 1288, 1297, 1298, 1299, 1300]\n"
     ]
    }
   ],
   "source": [
    "user_ids = data['id'].tolist()\n",
    "print(user_ids)"
   ]
  },
  {
   "cell_type": "code",
   "execution_count": 9,
   "id": "b9e5139c",
   "metadata": {},
   "outputs": [
    {
     "data": {
      "text/html": [
       "<div>\n",
       "<style scoped>\n",
       "    .dataframe tbody tr th:only-of-type {\n",
       "        vertical-align: middle;\n",
       "    }\n",
       "\n",
       "    .dataframe tbody tr th {\n",
       "        vertical-align: top;\n",
       "    }\n",
       "\n",
       "    .dataframe thead th {\n",
       "        text-align: right;\n",
       "    }\n",
       "</style>\n",
       "<table border=\"1\" class=\"dataframe\">\n",
       "  <thead>\n",
       "    <tr style=\"text-align: right;\">\n",
       "      <th></th>\n",
       "      <th>id</th>\n",
       "      <th>name</th>\n",
       "      <th>account</th>\n",
       "      <th>card</th>\n",
       "      <th>features</th>\n",
       "      <th>news</th>\n",
       "    </tr>\n",
       "  </thead>\n",
       "  <tbody>\n",
       "    <tr>\n",
       "      <th>7</th>\n",
       "      <td>1</td>\n",
       "      <td>Devweekerson</td>\n",
       "      <td>{'id': 1, 'number': '01.097954-4', 'agency': '...</td>\n",
       "      <td>{'id': 1, 'number': 'xxxx xxxx xxxx 1111', 'li...</td>\n",
       "      <td>[{'id': 2, 'icon': 'https://digitalinnovationo...</td>\n",
       "      <td>[{'id': 1, 'icon': 'https://digitalinnovationo...</td>\n",
       "    </tr>\n",
       "  </tbody>\n",
       "</table>\n",
       "</div>"
      ],
      "text/plain": [
       "   id          name                                            account  \\\n",
       "7   1  Devweekerson  {'id': 1, 'number': '01.097954-4', 'agency': '...   \n",
       "\n",
       "                                                card  \\\n",
       "7  {'id': 1, 'number': 'xxxx xxxx xxxx 1111', 'li...   \n",
       "\n",
       "                                            features  \\\n",
       "7  [{'id': 2, 'icon': 'https://digitalinnovationo...   \n",
       "\n",
       "                                                news  \n",
       "7  [{'id': 1, 'icon': 'https://digitalinnovationo...  "
      ]
     },
     "execution_count": 9,
     "metadata": {},
     "output_type": "execute_result"
    }
   ],
   "source": [
    "data.loc[data['id'] == 1]"
   ]
  },
  {
   "cell_type": "code",
   "execution_count": 10,
   "id": "3126594a",
   "metadata": {},
   "outputs": [],
   "source": [
    "def get_user(id):    \n",
    "    '''Recupera as informações do usuário a partir do valor de id fornecido.\n",
    "    Retorna o json caso resposta seja status code 200 de id existente, \n",
    "    caso contrário None    \n",
    "    arg: id: integer aceita somente valores das id cadastradas'''\n",
    "    \n",
    "    response = requests.get(f'{sdw2023_api_url}/users/{id}')\n",
    "    return response.json() if response.status_code == 200 else None"
   ]
  },
  {
   "cell_type": "code",
   "execution_count": 11,
   "id": "25de569b",
   "metadata": {},
   "outputs": [
    {
     "data": {
      "text/plain": [
       "10"
      ]
     },
     "execution_count": 11,
     "metadata": {},
     "output_type": "execute_result"
    }
   ],
   "source": [
    "len(user_ids[1100:])"
   ]
  },
  {
   "cell_type": "markdown",
   "id": "56a8856b",
   "metadata": {},
   "source": [
    "Obs:<br>\n",
    "Como não desejo recuperar os dados de todos os usuários cadastrados (o que levaria tempo), apenas o farei para aqueles cuja id sejam a partir de 1100. Atualmente (02/08/2023) refere-se a um total de dez cadastros."
   ]
  },
  {
   "cell_type": "code",
   "execution_count": 12,
   "id": "7492f08b",
   "metadata": {},
   "outputs": [],
   "source": [
    "list_user = [user for id in user_ids[1100:] if (user := get_user(id)) is not None]"
   ]
  },
  {
   "cell_type": "code",
   "execution_count": 13,
   "id": "75fc9657",
   "metadata": {},
   "outputs": [
    {
     "name": "stdout",
     "output_type": "stream",
     "text": [
      "[\n",
      "  {\n",
      "    \"id\": 1260,\n",
      "    \"name\": \"Jade Rodriguez\",\n",
      "    \"account\": {\n",
      "      \"id\": 1326,\n",
      "      \"number\": \"054520-1\",\n",
      "      \"agency\": \"2896\",\n",
      "      \"balance\": 0.0,\n",
      "      \"limit\": 3000.0\n",
      "    },\n",
      "    \"card\": {\n",
      "      \"id\": 1222,\n",
      "      \"number\": \"**** **** **** 7782\",\n",
      "      \"limit\": 1000.0\n",
      "    },\n",
      "    \"features\": [\n",
      "      {\n",
      "        \"id\": 436,\n",
      "        \"icon\": \"string\",\n",
      "        \"description\": \"string\"\n",
      "      }\n",
      "    ],\n",
      "    \"news\": [\n",
      "      {\n",
      "        \"id\": 2648,\n",
      "        \"icon\": \"string\",\n",
      "        \"description\": \"string\"\n",
      "      }\n",
      "    ]\n",
      "  },\n",
      "  {\n",
      "    \"id\": 1261,\n",
      "    \"name\": \"Amanda\",\n",
      "    \"account\": {\n",
      "      \"id\": 1327,\n",
      "      \"number\": \"00831-1\",\n",
      "      \"agency\": \"0001\",\n",
      "      \"balance\": 0.0,\n",
      "      \"limit\": 500.0\n",
      "    },\n",
      "    \"card\": {\n",
      "      \"id\": 1223,\n",
      "      \"number\": \"**** **** **** 5671\",\n",
      "      \"limit\": 1000.0\n",
      "    },\n",
      "    \"features\": [],\n",
      "    \"news\": []\n",
      "  },\n",
      "  {\n",
      "    \"id\": 1262,\n",
      "    \"name\": \"Pedro\",\n",
      "    \"account\": {\n",
      "      \"id\": 1328,\n",
      "      \"number\": \"00931-1\",\n",
      "      \"agency\": \"0001\",\n",
      "      \"balance\": 0.0,\n",
      "      \"limit\": 500.0\n",
      "    },\n",
      "    \"card\": {\n",
      "      \"id\": 1224,\n",
      "      \"number\": \"**** **** **** 5871\",\n",
      "      \"limit\": 1000.0\n",
      "    },\n",
      "    \"features\": [],\n",
      "    \"news\": [\n",
      "      {\n",
      "        \"id\": 2716,\n",
      "        \"icon\": \"https://digitalinnovationone.github.io/santander-dev-week-2023-api/icons/insurance.svg\",\n",
      "        \"description\": \"Pedro, invista em seu futuro financeiro! Descubra as possibilidades de investimentos e fa\\u00e7a seu dinheiro trabalhar por voc\\u00ea. Contate nosso especialista e comece a planejar seus objetivos hoje mesmo. #investimentos #futurofinanceiro Pedro\"\n",
      "      }\n",
      "    ]\n",
      "  },\n",
      "  {\n",
      "    \"id\": 1263,\n",
      "    \"name\": \"Vilma\",\n",
      "    \"account\": {\n",
      "      \"id\": 1329,\n",
      "      \"number\": \"00731-1\",\n",
      "      \"agency\": \"0001\",\n",
      "      \"balance\": 0.0,\n",
      "      \"limit\": 500.0\n",
      "    },\n",
      "    \"card\": {\n",
      "      \"id\": 1225,\n",
      "      \"number\": \"**** **** **** 5771\",\n",
      "      \"limit\": 1000.0\n",
      "    },\n",
      "    \"features\": [],\n",
      "    \"news\": [\n",
      "      {\n",
      "        \"id\": 2715,\n",
      "        \"icon\": \"https://digitalinnovationone.github.io/santander-dev-week-2023-api/icons/insurance.svg\",\n",
      "        \"description\": \"Vilma, maximizar seu dinheiro est\\u00e1 ao seu alcance! Descubra os melhores investimentos e alavanque seu patrim\\u00f4nio. Agende uma consulta gratuita e comece a colher os frutos da sabedoria financeira. Invista em si mesma! Vilma\"\n",
      "      }\n",
      "    ]\n",
      "  },\n",
      "  {\n",
      "    \"id\": 1264,\n",
      "    \"name\": \"Arthur\",\n",
      "    \"account\": {\n",
      "      \"id\": 1330,\n",
      "      \"number\": \"222202-2\",\n",
      "      \"agency\": \"0001\",\n",
      "      \"balance\": 0.0,\n",
      "      \"limit\": 1000.0\n",
      "    },\n",
      "    \"card\": {\n",
      "      \"id\": 1226,\n",
      "      \"number\": \"xxxx xxxx xxxx 2122\",\n",
      "      \"limit\": 1000.0\n",
      "    },\n",
      "    \"features\": [],\n",
      "    \"news\": []\n",
      "  },\n",
      "  {\n",
      "    \"id\": 1288,\n",
      "    \"name\": \"Sherlock\",\n",
      "    \"account\": {\n",
      "      \"id\": 9,\n",
      "      \"number\": \"00345-1\",\n",
      "      \"agency\": \"0001\",\n",
      "      \"balance\": 0.0,\n",
      "      \"limit\": 500.0\n",
      "    },\n",
      "    \"card\": {\n",
      "      \"id\": 6,\n",
      "      \"number\": \"0000 1234 9854 1234\",\n",
      "      \"limit\": 1000.0\n",
      "    },\n",
      "    \"features\": [\n",
      "      {\n",
      "        \"id\": 437,\n",
      "        \"icon\": \"string\",\n",
      "        \"description\": \"string\"\n",
      "      }\n",
      "    ],\n",
      "    \"news\": [\n",
      "      {\n",
      "        \"id\": 2674,\n",
      "        \"icon\": \"string\",\n",
      "        \"description\": \"string\"\n",
      "      }\n",
      "    ]\n",
      "  },\n",
      "  {\n",
      "    \"id\": 1297,\n",
      "    \"name\": \"Paulo\",\n",
      "    \"account\": {\n",
      "      \"id\": 1331,\n",
      "      \"number\": \"5565\",\n",
      "      \"agency\": \"Santander\",\n",
      "      \"balance\": 0.0,\n",
      "      \"limit\": 1000.0\n",
      "    },\n",
      "    \"card\": {\n",
      "      \"id\": 1234,\n",
      "      \"number\": \"xxxx xxxxx 7777\",\n",
      "      \"limit\": 0.0\n",
      "    },\n",
      "    \"features\": [\n",
      "      {\n",
      "        \"id\": 438,\n",
      "        \"icon\": \"string\",\n",
      "        \"description\": \"string\"\n",
      "      }\n",
      "    ],\n",
      "    \"news\": [\n",
      "      {\n",
      "        \"id\": 2679,\n",
      "        \"icon\": \"string\",\n",
      "        \"description\": \"string\"\n",
      "      }\n",
      "    ]\n",
      "  },\n",
      "  {\n",
      "    \"id\": 1298,\n",
      "    \"name\": \"Ricardo\",\n",
      "    \"account\": {\n",
      "      \"id\": 1332,\n",
      "      \"number\": \"5556\",\n",
      "      \"agency\": \"Santander\",\n",
      "      \"balance\": 0.0,\n",
      "      \"limit\": 1000.0\n",
      "    },\n",
      "    \"card\": {\n",
      "      \"id\": 1235,\n",
      "      \"number\": \"xxxx xxxxx 8888\",\n",
      "      \"limit\": 0.0\n",
      "    },\n",
      "    \"features\": [\n",
      "      {\n",
      "        \"id\": 439,\n",
      "        \"icon\": \"string\",\n",
      "        \"description\": \"string\"\n",
      "      }\n",
      "    ],\n",
      "    \"news\": [\n",
      "      {\n",
      "        \"id\": 2680,\n",
      "        \"icon\": \"string\",\n",
      "        \"description\": \"string\"\n",
      "      }\n",
      "    ]\n",
      "  },\n",
      "  {\n",
      "    \"id\": 1299,\n",
      "    \"name\": \"Santos\",\n",
      "    \"account\": {\n",
      "      \"id\": 1333,\n",
      "      \"number\": \"5555\",\n",
      "      \"agency\": \"Santander\",\n",
      "      \"balance\": 0.0,\n",
      "      \"limit\": 1000.0\n",
      "    },\n",
      "    \"card\": {\n",
      "      \"id\": 1236,\n",
      "      \"number\": \"xxxx xxxxx 9999\",\n",
      "      \"limit\": 0.0\n",
      "    },\n",
      "    \"features\": [\n",
      "      {\n",
      "        \"id\": 440,\n",
      "        \"icon\": \"string\",\n",
      "        \"description\": \"string\"\n",
      "      }\n",
      "    ],\n",
      "    \"news\": [\n",
      "      {\n",
      "        \"id\": 2681,\n",
      "        \"icon\": \"string\",\n",
      "        \"description\": \"string\"\n",
      "      }\n",
      "    ]\n",
      "  },\n",
      "  {\n",
      "    \"id\": 1300,\n",
      "    \"name\": \"Sir Pyterson II\",\n",
      "    \"account\": {\n",
      "      \"id\": 1334,\n",
      "      \"number\": \"90001-3\",\n",
      "      \"agency\": \"0001\",\n",
      "      \"balance\": 1000000.0,\n",
      "      \"limit\": 100000000.0\n",
      "    },\n",
      "    \"card\": {\n",
      "      \"id\": 1237,\n",
      "      \"number\": \"1234 4321 1357 2468\",\n",
      "      \"limit\": 0.0\n",
      "    },\n",
      "    \"features\": [\n",
      "      {\n",
      "        \"id\": 441,\n",
      "        \"icon\": \"string\",\n",
      "        \"description\": \"string\"\n",
      "      }\n",
      "    ],\n",
      "    \"news\": [\n",
      "      {\n",
      "        \"id\": 2694,\n",
      "        \"icon\": \"string\",\n",
      "        \"description\": \"string\"\n",
      "      }\n",
      "    ]\n",
      "  }\n",
      "]\n"
     ]
    }
   ],
   "source": [
    "print(json.dumps(list_user, indent=2))"
   ]
  },
  {
   "cell_type": "markdown",
   "id": "911f6204",
   "metadata": {},
   "source": [
    "### Transform \n",
    "Gerar uma mensagem de marketing personalizada para cada usuário."
   ]
  },
  {
   "cell_type": "code",
   "execution_count": 15,
   "id": "79ae3910",
   "metadata": {},
   "outputs": [],
   "source": [
    "# !pip install openai"
   ]
  },
  {
   "cell_type": "markdown",
   "id": "e6e13ebe",
   "metadata": {},
   "source": [
    "Documentação oficial da API OpenAI: https://platform.openai.com/docs/api-reference/introduction\n",
    "Informações sobre o período gratuito: https://help.openai.com/en/articles/4936830\n",
    "\n",
    "Para gerar uma API Key:\n",
    "1. Crie uma conta na OpenAI\n",
    "2. Acesse a seção \"API Keys\"\n",
    "3. Clique em \"Create API Key\"\n",
    "\n",
    "Link direto: https://platform.openai.com/account/api-keys\n",
    "Substitua o texto TODO por sua API Key da OpenAI, ela será salva como uma variável de ambiente."
   ]
  },
  {
   "cell_type": "code",
   "execution_count": 16,
   "id": "af08d678",
   "metadata": {},
   "outputs": [],
   "source": [
    "openai_api_key = '' # inserir a própria chave"
   ]
  },
  {
   "cell_type": "code",
   "execution_count": 18,
   "id": "777ea68d",
   "metadata": {},
   "outputs": [],
   "source": [
    "openai.api_key = openai_api_key"
   ]
  },
  {
   "cell_type": "code",
   "execution_count": 26,
   "id": "430d3d38",
   "metadata": {},
   "outputs": [],
   "source": [
    "def generate_ai_news(user):    \n",
    "    completion = openai.ChatCompletion.create(        \n",
    "        model=\"gpt-4\",\n",
    "        messages=[\n",
    "            {\n",
    "                \"role\": \"system\", \"content\": \"Você é um especialista em marketing bancário\"\n",
    "            },\n",
    "            {\n",
    "                \"role\": \"user\", \n",
    "                \"content\": f\"Crie uma mensagem para {user['name']} sobre a \\\n",
    "                importância dos investimentos (máximo de 100 caracteres)\"\n",
    "            }\n",
    "        ]\n",
    "    )\n",
    "    \n",
    "    responseChatGPT = completion.choices[0].message.content.strip('\\\"')    "
   ]
  },
  {
   "cell_type": "code",
   "execution_count": null,
   "id": "ad4e7d95",
   "metadata": {},
   "outputs": [],
   "source": [
    "for user in list_user:\n",
    "    news = generate_ai_news(user)\n",
    "    print(news)\n",
    "    user['news'].append(        \n",
    "        {\n",
    "            \"icon\": \"https://digitalinnovationone.github.io/santander-dev-week-2023-api/icons/credit.svg\",\n",
    "            \"description\": news\n",
    "        }\n",
    "    )"
   ]
  },
  {
   "cell_type": "markdown",
   "id": "6d8c27d5",
   "metadata": {},
   "source": [
    "### Load"
   ]
  },
  {
   "cell_type": "code",
   "execution_count": null,
   "id": "77b90900",
   "metadata": {},
   "outputs": [],
   "source": []
  }
 ],
 "metadata": {
  "kernelspec": {
   "display_name": "Python 3 (ipykernel)",
   "language": "python",
   "name": "python3"
  },
  "language_info": {
   "codemirror_mode": {
    "name": "ipython",
    "version": 3
   },
   "file_extension": ".py",
   "mimetype": "text/x-python",
   "name": "python",
   "nbconvert_exporter": "python",
   "pygments_lexer": "ipython3",
   "version": "3.10.9"
  }
 },
 "nbformat": 4,
 "nbformat_minor": 5
}
